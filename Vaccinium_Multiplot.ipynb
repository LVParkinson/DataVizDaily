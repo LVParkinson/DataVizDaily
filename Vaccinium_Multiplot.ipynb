{
 "cells": [
  {
   "cell_type": "code",
   "execution_count": 47,
   "metadata": {},
   "outputs": [],
   "source": [
    "import pandas as pd\n",
    "import numpy as np\n",
    "import seaborn as sns\n",
    "import os\n",
    "import matplotlib.pyplot as plt"
   ]
  },
  {
   "cell_type": "code",
   "execution_count": 33,
   "metadata": {},
   "outputs": [],
   "source": [
    "working_directory = os.getcwd()\n",
    "rawberrydf = pd.read_csv(working_directory + \"/Masters_berry_spreadsheet.csv\") \n",
    "coordinates = pd.read_csv(working_directory + \"/SiteCoordinates.csv\") "
   ]
  },
  {
   "cell_type": "code",
   "execution_count": 6,
   "metadata": {},
   "outputs": [
    {
     "data": {
      "text/plain": [
       "Index(['Species', 'Site', 'Individual', 'nLeaves', 'SA (mm2)', 'Berry (g)',\n",
       "       'Leaf (g)', 'Stem (g)', 'SLA', 'BMR', 'nFlwrs', 'nBerries', 'Fruit Set',\n",
       "       'Base (mm)', 'TFR', 'pct.canopy', 'Age', 'PollenAv', 'Pollen1',\n",
       "       'Pollen2', 'Pollen3', 'AvMoist', 'AvTemp', 'ALD', 'Elevation'],\n",
       "      dtype='object')"
      ]
     },
     "execution_count": 6,
     "metadata": {},
     "output_type": "execute_result"
    }
   ],
   "source": [
    "rawberrydf.columns"
   ]
  },
  {
   "cell_type": "code",
   "execution_count": 41,
   "metadata": {},
   "outputs": [],
   "source": [
    "rawberrydf['Fruit Set'] = rawberrydf['Fruit Set'].replace(['#VALUE!', '#DIV/0!'], 'NaN')\n",
    "rawberrydf['Fruit Set'] = rawberrydf['Fruit Set'].astype(str).astype(float)\n",
    "setdf = rawberrydf.groupby(['Site', 'Species', 'Elevation'], as_index=False)[['Fruit Set', 'nBerries']].mean()\n",
    "setdf = pd.merge(setdf, coordinates, on='Site', how='inner')"
   ]
  },
  {
   "cell_type": "code",
   "execution_count": 42,
   "metadata": {
    "scrolled": true
   },
   "outputs": [
    {
     "data": {
      "text/html": [
       "<div>\n",
       "<style scoped>\n",
       "    .dataframe tbody tr th:only-of-type {\n",
       "        vertical-align: middle;\n",
       "    }\n",
       "\n",
       "    .dataframe tbody tr th {\n",
       "        vertical-align: top;\n",
       "    }\n",
       "\n",
       "    .dataframe thead th {\n",
       "        text-align: right;\n",
       "    }\n",
       "</style>\n",
       "<table border=\"1\" class=\"dataframe\">\n",
       "  <thead>\n",
       "    <tr style=\"text-align: right;\">\n",
       "      <th></th>\n",
       "      <th>Site</th>\n",
       "      <th>Species</th>\n",
       "      <th>Elevation</th>\n",
       "      <th>Fruit Set</th>\n",
       "      <th>nBerries</th>\n",
       "      <th>Lat</th>\n",
       "      <th>Long</th>\n",
       "    </tr>\n",
       "  </thead>\n",
       "  <tbody>\n",
       "    <tr>\n",
       "      <th>0</th>\n",
       "      <td>BFY1</td>\n",
       "      <td>VACULI</td>\n",
       "      <td>497</td>\n",
       "      <td>0.344218</td>\n",
       "      <td>9.833333</td>\n",
       "      <td>65.119978</td>\n",
       "      <td>-147.429157</td>\n",
       "    </tr>\n",
       "    <tr>\n",
       "      <th>1</th>\n",
       "      <td>BFY1</td>\n",
       "      <td>VACVIT</td>\n",
       "      <td>497</td>\n",
       "      <td>0.386806</td>\n",
       "      <td>1.666667</td>\n",
       "      <td>65.119978</td>\n",
       "      <td>-147.429157</td>\n",
       "    </tr>\n",
       "    <tr>\n",
       "      <th>2</th>\n",
       "      <td>BFY10</td>\n",
       "      <td>VACULI</td>\n",
       "      <td>425</td>\n",
       "      <td>0.365914</td>\n",
       "      <td>3.916667</td>\n",
       "      <td>65.118668</td>\n",
       "      <td>-147.449410</td>\n",
       "    </tr>\n",
       "    <tr>\n",
       "      <th>3</th>\n",
       "      <td>BFY10</td>\n",
       "      <td>VACVIT</td>\n",
       "      <td>425</td>\n",
       "      <td>0.538889</td>\n",
       "      <td>1.750000</td>\n",
       "      <td>65.118668</td>\n",
       "      <td>-147.449410</td>\n",
       "    </tr>\n",
       "    <tr>\n",
       "      <th>4</th>\n",
       "      <td>BFY6</td>\n",
       "      <td>VACULI</td>\n",
       "      <td>210</td>\n",
       "      <td>0.009441</td>\n",
       "      <td>0.250000</td>\n",
       "      <td>65.118668</td>\n",
       "      <td>-147.477168</td>\n",
       "    </tr>\n",
       "  </tbody>\n",
       "</table>\n",
       "</div>"
      ],
      "text/plain": [
       "    Site Species  Elevation  Fruit Set  nBerries        Lat        Long\n",
       "0   BFY1  VACULI        497   0.344218  9.833333  65.119978 -147.429157\n",
       "1   BFY1  VACVIT        497   0.386806  1.666667  65.119978 -147.429157\n",
       "2  BFY10  VACULI        425   0.365914  3.916667  65.118668 -147.449410\n",
       "3  BFY10  VACVIT        425   0.538889  1.750000  65.118668 -147.449410\n",
       "4   BFY6  VACULI        210   0.009441  0.250000  65.118668 -147.477168"
      ]
     },
     "execution_count": 42,
     "metadata": {},
     "output_type": "execute_result"
    }
   ],
   "source": [
    "setdf.head()"
   ]
  },
  {
   "cell_type": "code",
   "execution_count": 83,
   "metadata": {
    "scrolled": true
   },
   "outputs": [
    {
     "data": {
      "text/plain": [
       "<seaborn.axisgrid.FacetGrid at 0x7ff9e279d040>"
      ]
     },
     "execution_count": 83,
     "metadata": {},
     "output_type": "execute_result"
    },
    {
     "data": {
      "image/png": "[encoded data removed]",
      "text/plain": [
       "<Figure size 432x216 with 2 Axes>"
      ]
     },
     "metadata": {
      "needs_background": "light"
     },
     "output_type": "display_data"
    }
   ],
   "source": [
    "g=sns.FacetGrid(data=setdf, col='Species')\n",
    "g.map(sns.scatterplot, \"Elevation\", \"Fruit Set\", sizes = 'nBerries',legend=\"full\"\n",
    ")\n"
   ]
  },
  {
   "cell_type": "code",
   "execution_count": 86,
   "metadata": {},
   "outputs": [
    {
     "data": {
      "text/plain": [
       "<matplotlib.colorbar.Colorbar at 0x7ff9e195bee0>"
      ]
     },
     "execution_count": 86,
     "metadata": {},
     "output_type": "execute_result"
    },
    {
     "data": {
      "image/png": "[encoded data removed]",
      "text/plain": [
       "<Figure size 432x216 with 3 Axes>"
      ]
     },
     "metadata": {
      "needs_background": "light"
     },
     "output_type": "display_data"
    }
   ],
   "source": [
    "#https://stackoverflow.com/questions/44641669/scatterplot-with-point-colors-representing-a-continuous-variable-in-seaborn-face\n",
    "\n",
    "\n",
    "g = sns.FacetGrid(setdf, col='Species', palette = 'seismic')\n",
    "\n",
    "def facet_scatter(x, y, c, **kwargs):\n",
    "    \"\"\"Draw scatterplot with point colors from a faceted DataFrame columns.\"\"\"\n",
    "    kwargs.pop(\"color\")\n",
    "    plt.scatter(x, y, c=c, **kwargs)\n",
    "\n",
    "vmin, vmax = 0, .6\n",
    "cmap = sns.diverging_palette(240, 10, l=65, center=\"dark\", as_cmap=True)\n",
    "\n",
    "g = g.map(facet_scatter, 'nBerries','Elevation', \"Fruit Set\",\n",
    "          s=100, alpha=0.5, vmin=vmin, vmax=vmax, cmap=cmap)\n",
    "\n",
    "# Make space for the colorbar\n",
    "g.fig.subplots_adjust(right=.92)\n",
    "\n",
    "# Define a new Axes where the colorbar will go\n",
    "cax = g.fig.add_axes([.94, .25, .02, .6])\n",
    "\n",
    "# Get a mappable object with the same colormap as the data\n",
    "points = plt.scatter([], [], c=[], vmin=vmin, vmax=vmax, cmap=cmap)\n",
    "\n",
    "# Draw the colorbar\n",
    "g.fig.colorbar(points, cax=cax)\n"
   ]
  }
 ],
 "metadata": {
  "kernelspec": {
   "display_name": "Python 3",
   "language": "python",
   "name": "python3"
  },
  "language_info": {
   "codemirror_mode": {
    "name": "ipython",
    "version": 3
   },
   "file_extension": ".py",
   "mimetype": "text/x-python",
   "name": "python",
   "nbconvert_exporter": "python",
   "pygments_lexer": "ipython3",
   "version": "3.8.3"
  }
 },
 "nbformat": 4,
 "nbformat_minor": 4
}
